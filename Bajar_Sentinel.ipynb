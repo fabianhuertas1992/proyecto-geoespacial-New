{
  "nbformat": 4,
  "nbformat_minor": 0,
  "metadata": {
    "colab": {
      "provenance": []
    },
    "kernelspec": {
      "name": "python3",
      "display_name": "Python 3"
    },
    "language_info": {
      "name": "python"
    }
  },
  "cells": [
    {
      "cell_type": "markdown",
      "metadata": {
        "id": "Px056EjTpdjx"
      }
    },
    {
      "cell_type": "code",
      "source": [
        "# ============================================\n",
        "# 1. INSTALACIÓN DE DEPENDENCIAS Y CONFIGURACIÓN\n",
        "# ============================================\n",
        "\n",
        "!pip install pystac-client planetary-computer geopandas shapely rioxarray xarray pyproj\n",
        "\n",
        "from google.colab import drive\n",
        "import os\n",
        "\n",
        "# Montar Google Drive\n",
        "print(\"Montando Google Drive...\")\n",
        "drive.mount('/content/drive')\n"
      ],
      "metadata": {
        "colab": {
          "base_uri": "https://localhost:8080/"
        },
        "collapsed": true,
        "id": "n2sFXcOsmBV9",
        "outputId": "c888958b-2889-49f6-a150-1cee8cd758d9"
      },
      "execution_count": 1,
      "outputs": [
        {
          "output_type": "stream",
          "name": "stdout",
          "text": [
            "Collecting pystac-client\n",
            "  Downloading pystac_client-0.8.6-py3-none-any.whl.metadata (3.0 kB)\n",
            "Collecting planetary-computer\n",
            "  Downloading planetary_computer-1.0.0-py3-none-any.whl.metadata (7.4 kB)\n",
            "Requirement already satisfied: geopandas in /usr/local/lib/python3.11/dist-packages (1.0.1)\n",
            "Requirement already satisfied: shapely in /usr/local/lib/python3.11/dist-packages (2.1.0)\n",
            "Collecting rioxarray\n",
            "  Downloading rioxarray-0.18.2-py3-none-any.whl.metadata (5.4 kB)\n",
            "Requirement already satisfied: xarray in /usr/local/lib/python3.11/dist-packages (2025.1.2)\n",
            "Requirement already satisfied: pyproj in /usr/local/lib/python3.11/dist-packages (3.7.1)\n",
            "Requirement already satisfied: requests>=2.28.2 in /usr/local/lib/python3.11/dist-packages (from pystac-client) (2.32.3)\n",
            "Collecting pystac>=1.10.0 (from pystac[validation]>=1.10.0->pystac-client)\n",
            "  Downloading pystac-1.12.2-py3-none-any.whl.metadata (4.6 kB)\n",
            "Requirement already satisfied: python-dateutil>=2.8.2 in /usr/local/lib/python3.11/dist-packages (from pystac-client) (2.8.2)\n",
            "Requirement already satisfied: click>=7.1 in /usr/local/lib/python3.11/dist-packages (from planetary-computer) (8.1.8)\n",
            "Requirement already satisfied: pydantic>=1.7.3 in /usr/local/lib/python3.11/dist-packages (from planetary-computer) (2.11.2)\n",
            "Requirement already satisfied: pytz>=2020.5 in /usr/local/lib/python3.11/dist-packages (from planetary-computer) (2025.2)\n",
            "Requirement already satisfied: packaging in /usr/local/lib/python3.11/dist-packages (from planetary-computer) (24.2)\n",
            "Collecting python-dotenv (from planetary-computer)\n",
            "  Downloading python_dotenv-1.1.0-py3-none-any.whl.metadata (24 kB)\n",
            "Requirement already satisfied: numpy>=1.22 in /usr/local/lib/python3.11/dist-packages (from geopandas) (2.0.2)\n",
            "Requirement already satisfied: pyogrio>=0.7.2 in /usr/local/lib/python3.11/dist-packages (from geopandas) (0.10.0)\n",
            "Requirement already satisfied: pandas>=1.4.0 in /usr/local/lib/python3.11/dist-packages (from geopandas) (2.2.2)\n",
            "Collecting rasterio>=1.3.7 (from rioxarray)\n",
            "  Downloading rasterio-1.4.3-cp311-cp311-manylinux_2_17_x86_64.manylinux2014_x86_64.whl.metadata (9.1 kB)\n",
            "Requirement already satisfied: certifi in /usr/local/lib/python3.11/dist-packages (from pyproj) (2025.1.31)\n",
            "Requirement already satisfied: tzdata>=2022.7 in /usr/local/lib/python3.11/dist-packages (from pandas>=1.4.0->geopandas) (2025.2)\n",
            "Requirement already satisfied: annotated-types>=0.6.0 in /usr/local/lib/python3.11/dist-packages (from pydantic>=1.7.3->planetary-computer) (0.7.0)\n",
            "Requirement already satisfied: pydantic-core==2.33.1 in /usr/local/lib/python3.11/dist-packages (from pydantic>=1.7.3->planetary-computer) (2.33.1)\n",
            "Requirement already satisfied: typing-extensions>=4.12.2 in /usr/local/lib/python3.11/dist-packages (from pydantic>=1.7.3->planetary-computer) (4.13.1)\n",
            "Requirement already satisfied: typing-inspection>=0.4.0 in /usr/local/lib/python3.11/dist-packages (from pydantic>=1.7.3->planetary-computer) (0.4.0)\n",
            "Requirement already satisfied: jsonschema~=4.18 in /usr/local/lib/python3.11/dist-packages (from pystac[validation]>=1.10.0->pystac-client) (4.23.0)\n",
            "Requirement already satisfied: six>=1.5 in /usr/local/lib/python3.11/dist-packages (from python-dateutil>=2.8.2->pystac-client) (1.17.0)\n",
            "Collecting affine (from rasterio>=1.3.7->rioxarray)\n",
            "  Downloading affine-2.4.0-py3-none-any.whl.metadata (4.0 kB)\n",
            "Requirement already satisfied: attrs in /usr/local/lib/python3.11/dist-packages (from rasterio>=1.3.7->rioxarray) (25.3.0)\n",
            "Collecting cligj>=0.5 (from rasterio>=1.3.7->rioxarray)\n",
            "  Downloading cligj-0.7.2-py3-none-any.whl.metadata (5.0 kB)\n",
            "Collecting click-plugins (from rasterio>=1.3.7->rioxarray)\n",
            "  Downloading click_plugins-1.1.1-py2.py3-none-any.whl.metadata (6.4 kB)\n",
            "Requirement already satisfied: pyparsing in /usr/local/lib/python3.11/dist-packages (from rasterio>=1.3.7->rioxarray) (3.2.3)\n",
            "Requirement already satisfied: charset-normalizer<4,>=2 in /usr/local/lib/python3.11/dist-packages (from requests>=2.28.2->pystac-client) (3.4.1)\n",
            "Requirement already satisfied: idna<4,>=2.5 in /usr/local/lib/python3.11/dist-packages (from requests>=2.28.2->pystac-client) (3.10)\n",
            "Requirement already satisfied: urllib3<3,>=1.21.1 in /usr/local/lib/python3.11/dist-packages (from requests>=2.28.2->pystac-client) (2.3.0)\n",
            "Requirement already satisfied: jsonschema-specifications>=2023.03.6 in /usr/local/lib/python3.11/dist-packages (from jsonschema~=4.18->pystac[validation]>=1.10.0->pystac-client) (2024.10.1)\n",
            "Requirement already satisfied: referencing>=0.28.4 in /usr/local/lib/python3.11/dist-packages (from jsonschema~=4.18->pystac[validation]>=1.10.0->pystac-client) (0.36.2)\n",
            "Requirement already satisfied: rpds-py>=0.7.1 in /usr/local/lib/python3.11/dist-packages (from jsonschema~=4.18->pystac[validation]>=1.10.0->pystac-client) (0.24.0)\n",
            "Downloading pystac_client-0.8.6-py3-none-any.whl (41 kB)\n",
            "\u001b[2K   \u001b[90m━━━━━━━━━━━━━━━━━━━━━━━━━━━━━━━━━━━━━━━━\u001b[0m \u001b[32m41.4/41.4 kB\u001b[0m \u001b[31m919.3 kB/s\u001b[0m eta \u001b[36m0:00:00\u001b[0m\n",
            "\u001b[?25hDownloading planetary_computer-1.0.0-py3-none-any.whl (14 kB)\n",
            "Downloading rioxarray-0.18.2-py3-none-any.whl (61 kB)\n",
            "\u001b[2K   \u001b[90m━━━━━━━━━━━━━━━━━━━━━━━━━━━━━━━━━━━━━━━━\u001b[0m \u001b[32m61.9/61.9 kB\u001b[0m \u001b[31m3.4 MB/s\u001b[0m eta \u001b[36m0:00:00\u001b[0m\n",
            "\u001b[?25hDownloading pystac-1.12.2-py3-none-any.whl (194 kB)\n",
            "\u001b[2K   \u001b[90m━━━━━━━━━━━━━━━━━━━━━━━━━━━━━━━━━━━━━━━━\u001b[0m \u001b[32m194.2/194.2 kB\u001b[0m \u001b[31m7.1 MB/s\u001b[0m eta \u001b[36m0:00:00\u001b[0m\n",
            "\u001b[?25hDownloading rasterio-1.4.3-cp311-cp311-manylinux_2_17_x86_64.manylinux2014_x86_64.whl (22.2 MB)\n",
            "\u001b[2K   \u001b[90m━━━━━━━━━━━━━━━━━━━━━━━━━━━━━━━━━━━━━━━━\u001b[0m \u001b[32m22.2/22.2 MB\u001b[0m \u001b[31m12.8 MB/s\u001b[0m eta \u001b[36m0:00:00\u001b[0m\n",
            "\u001b[?25hDownloading python_dotenv-1.1.0-py3-none-any.whl (20 kB)\n",
            "Downloading cligj-0.7.2-py3-none-any.whl (7.1 kB)\n",
            "Downloading affine-2.4.0-py3-none-any.whl (15 kB)\n",
            "Downloading click_plugins-1.1.1-py2.py3-none-any.whl (7.5 kB)\n",
            "Installing collected packages: python-dotenv, cligj, click-plugins, affine, rasterio, pystac, rioxarray, pystac-client, planetary-computer\n",
            "Successfully installed affine-2.4.0 click-plugins-1.1.1 cligj-0.7.2 planetary-computer-1.0.0 pystac-1.12.2 pystac-client-0.8.6 python-dotenv-1.1.0 rasterio-1.4.3 rioxarray-0.18.2\n",
            "Montando Google Drive...\n",
            "Mounted at /content/drive\n"
          ]
        }
      ]
    },
    {
      "cell_type": "code",
      "source": [
        "\n",
        "# ============================================\n",
        "# 2. DEFINICIÓN MANUAL DE RUTAS\n",
        "# ============================================\n",
        "\n",
        "# Cambia estas rutas manualmente según tu estructura en Google Drive\n",
        "GEOJSON_DIR = \"/content/drive/Shareddrives/DEV/Nuwa/Data/Modelo_NDVI/Json\"\n",
        "SENTINEL_DIR = \"/content/drive/Shareddrives/DEV/Nuwa/Data/Modelo_NDVI/Sentinel\"\n",
        "\n",
        "# Ruta fija del archivo GeoJSON\n",
        "GEOJSON_PATH_MANUAL = os.path.join(GEOJSON_DIR, \"Cauca_1523,4567_Tecnicafe.json\")"
      ],
      "metadata": {
        "id": "9ogEPaqNmsgL"
      },
      "execution_count": 2,
      "outputs": []
    },
    {
      "cell_type": "code",
      "source": [
        "\n",
        "# ============================================\n",
        "# 3. IMPORTAR LIBRERÍAS Y DEFINIR PARÁMETROS\n",
        "# ============================================\n",
        "\n",
        "import geopandas as gpd\n",
        "import rioxarray\n",
        "import planetary_computer\n",
        "from pystac_client import Client\n",
        "import numpy as np\n",
        "import xarray as xr\n",
        "from shapely.geometry import shape, mapping\n",
        "import json\n",
        "from datetime import datetime\n",
        "import requests\n",
        "\n",
        "max_cloud_cover = 10\n",
        "date_range = \"2023-01-01/2024-12-31\"\n",
        "\n",
        "# Conectarse a Planetary Computer\n",
        "pc = Client.open(\"https://planetarycomputer.microsoft.com/api/stac/v1\")"
      ],
      "metadata": {
        "id": "KlwyEiZKn1e9"
      },
      "execution_count": 3,
      "outputs": []
    },
    {
      "cell_type": "code",
      "source": [
        "# ============================================\n",
        "# 4. CARGAR GEOJSON Y PREPARAR GEOMETRÍA\n",
        "# ============================================\n",
        "\n",
        "with open(GEOJSON_PATH_MANUAL, 'r') as f:\n",
        "    geojson_data = json.load(f)\n",
        "\n",
        "geometries = [shape(feature['geometry']) for feature in geojson_data['features']]\n",
        "gdf = gpd.GeoDataFrame(geometry=geometries, crs=\"EPSG:4326\")\n",
        "clip_geometry = gdf.geometry.iloc[0]\n",
        "\n",
        "print(\"✅ GeoJSON cargado correctamente\")"
      ],
      "metadata": {
        "colab": {
          "base_uri": "https://localhost:8080/"
        },
        "id": "L3T223zNoBKI",
        "outputId": "a27c6d0d-84c7-4208-dc65-2fd0a031319d"
      },
      "execution_count": 4,
      "outputs": [
        {
          "output_type": "stream",
          "name": "stdout",
          "text": [
            "✅ GeoJSON cargado correctamente\n"
          ]
        }
      ]
    },
    {
      "cell_type": "code",
      "source": [
        "# ============================================\n",
        "# 5. BUSCAR Y DESCARGAR TODAS LAS BANDAS\n",
        "# ============================================\n",
        "\n",
        "try:\n",
        "    bounds = gdf.total_bounds\n",
        "    width = bounds[2] - bounds[0]\n",
        "    height = bounds[3] - bounds[1]\n",
        "    expanded_bounds = [\n",
        "        bounds[0] - width * 0.2,\n",
        "        bounds[1] - height * 0.2,\n",
        "        bounds[2] + width * 0.2,\n",
        "        bounds[3] + height * 0.2\n",
        "    ]\n",
        "\n",
        "    search = pc.search(\n",
        "        collections=[\"sentinel-2-l2a\"],\n",
        "        bbox=expanded_bounds,\n",
        "        datetime=date_range,\n",
        "        query={\"eo:cloud_cover\": {\"lt\": max_cloud_cover}},\n",
        "    )\n",
        "\n",
        "    items = list(search.get_items())\n",
        "    print(f\"\\nSe encontraron {len(items)} imágenes disponibles.\")\n",
        "\n",
        "    if len(items) > 0:\n",
        "        selected = items[0].to_dict()\n",
        "        signed_item = planetary_computer.sign(selected)\n",
        "\n",
        "        # Obtener nombre base del archivo geojson y fecha del producto\n",
        "        geojson_name = os.path.splitext(os.path.basename(GEOJSON_PATH_MANUAL))[0].replace(\",\", \"_\")\n",
        "        fecha_imagen = selected['properties']['datetime'][:10].replace(\"-\", \"\")\n",
        "\n",
        "        # Crear carpeta específica para esta descarga\n",
        "        carpeta_destino = os.path.join(SENTINEL_DIR, f\"{geojson_name}_{fecha_imagen}\")\n",
        "        os.makedirs(carpeta_destino, exist_ok=True)\n",
        "\n",
        "        for asset_name, asset_data in signed_item['assets'].items():\n",
        "            href = asset_data['href']\n",
        "            if href.endswith('.tif') or 'B' in asset_name:\n",
        "                nombre_archivo = f\"{geojson_name}_{fecha_imagen}_{asset_name}.tif\"\n",
        "                destino = os.path.join(carpeta_destino, nombre_archivo)\n",
        "\n",
        "                try:\n",
        "                    print(f\"\\n⬇️ Descargando {asset_name}...\")\n",
        "                    response = requests.get(href, stream=True)\n",
        "                    with open(destino, 'wb') as f:\n",
        "                        for chunk in response.iter_content(chunk_size=8192):\n",
        "                            f.write(chunk)\n",
        "                    print(f\"✅ {asset_name} guardado en: {destino}\")\n",
        "\n",
        "                except Exception as e:\n",
        "                    print(f\"❌ Error con {asset_name}: {e}\")\n",
        "    else:\n",
        "        print(\"No se encontraron imágenes para los criterios definidos.\")\n",
        "\n",
        "except Exception as e:\n",
        "    raise Exception(f\"Error al buscar o descargar imágenes Sentinel: {e}\")\n"
      ],
      "metadata": {
        "colab": {
          "base_uri": "https://localhost:8080/"
        },
        "id": "ds0bfJMioKTf",
        "outputId": "9ff41510-d426-4f1d-cb36-fa6bbcd1648a"
      },
      "execution_count": 6,
      "outputs": [
        {
          "output_type": "stream",
          "name": "stderr",
          "text": [
            "/usr/local/lib/python3.11/dist-packages/pystac_client/item_search.py:881: FutureWarning: get_items() is deprecated, use items() instead\n",
            "  warnings.warn(\n"
          ]
        },
        {
          "output_type": "stream",
          "name": "stdout",
          "text": [
            "\n",
            "Se encontraron 6 imágenes disponibles.\n",
            "\n",
            "⬇️ Descargando B01...\n",
            "✅ B01 guardado en: /content/drive/Shareddrives/DEV/Nuwa/Data/Modelo_NDVI/Sentinel/Cauca_1523_4567_Tecnicafe_20241017/Cauca_1523_4567_Tecnicafe_20241017_B01.tif\n",
            "\n",
            "⬇️ Descargando B02...\n",
            "✅ B02 guardado en: /content/drive/Shareddrives/DEV/Nuwa/Data/Modelo_NDVI/Sentinel/Cauca_1523_4567_Tecnicafe_20241017/Cauca_1523_4567_Tecnicafe_20241017_B02.tif\n",
            "\n",
            "⬇️ Descargando B03...\n",
            "✅ B03 guardado en: /content/drive/Shareddrives/DEV/Nuwa/Data/Modelo_NDVI/Sentinel/Cauca_1523_4567_Tecnicafe_20241017/Cauca_1523_4567_Tecnicafe_20241017_B03.tif\n",
            "\n",
            "⬇️ Descargando B04...\n",
            "✅ B04 guardado en: /content/drive/Shareddrives/DEV/Nuwa/Data/Modelo_NDVI/Sentinel/Cauca_1523_4567_Tecnicafe_20241017/Cauca_1523_4567_Tecnicafe_20241017_B04.tif\n",
            "\n",
            "⬇️ Descargando B05...\n",
            "✅ B05 guardado en: /content/drive/Shareddrives/DEV/Nuwa/Data/Modelo_NDVI/Sentinel/Cauca_1523_4567_Tecnicafe_20241017/Cauca_1523_4567_Tecnicafe_20241017_B05.tif\n",
            "\n",
            "⬇️ Descargando B06...\n",
            "✅ B06 guardado en: /content/drive/Shareddrives/DEV/Nuwa/Data/Modelo_NDVI/Sentinel/Cauca_1523_4567_Tecnicafe_20241017/Cauca_1523_4567_Tecnicafe_20241017_B06.tif\n",
            "\n",
            "⬇️ Descargando B07...\n",
            "✅ B07 guardado en: /content/drive/Shareddrives/DEV/Nuwa/Data/Modelo_NDVI/Sentinel/Cauca_1523_4567_Tecnicafe_20241017/Cauca_1523_4567_Tecnicafe_20241017_B07.tif\n",
            "\n",
            "⬇️ Descargando B08...\n",
            "✅ B08 guardado en: /content/drive/Shareddrives/DEV/Nuwa/Data/Modelo_NDVI/Sentinel/Cauca_1523_4567_Tecnicafe_20241017/Cauca_1523_4567_Tecnicafe_20241017_B08.tif\n",
            "\n",
            "⬇️ Descargando B09...\n",
            "✅ B09 guardado en: /content/drive/Shareddrives/DEV/Nuwa/Data/Modelo_NDVI/Sentinel/Cauca_1523_4567_Tecnicafe_20241017/Cauca_1523_4567_Tecnicafe_20241017_B09.tif\n",
            "\n",
            "⬇️ Descargando B11...\n",
            "✅ B11 guardado en: /content/drive/Shareddrives/DEV/Nuwa/Data/Modelo_NDVI/Sentinel/Cauca_1523_4567_Tecnicafe_20241017/Cauca_1523_4567_Tecnicafe_20241017_B11.tif\n",
            "\n",
            "⬇️ Descargando B12...\n",
            "✅ B12 guardado en: /content/drive/Shareddrives/DEV/Nuwa/Data/Modelo_NDVI/Sentinel/Cauca_1523_4567_Tecnicafe_20241017/Cauca_1523_4567_Tecnicafe_20241017_B12.tif\n",
            "\n",
            "⬇️ Descargando B8A...\n",
            "✅ B8A guardado en: /content/drive/Shareddrives/DEV/Nuwa/Data/Modelo_NDVI/Sentinel/Cauca_1523_4567_Tecnicafe_20241017/Cauca_1523_4567_Tecnicafe_20241017_B8A.tif\n"
          ]
        }
      ]
    }
  ]
}
